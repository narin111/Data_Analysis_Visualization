{
 "cells": [
  {
   "cell_type": "markdown",
   "id": "1b07c38a",
   "metadata": {},
   "source": [
    "# Pandas\n",
    "파이썬에서 사용하는 데이터 분석 라이브러리"
   ]
  },
  {
   "cell_type": "code",
   "execution_count": 4,
   "id": "4210e08a",
   "metadata": {},
   "outputs": [],
   "source": [
    "import pandas as pd"
   ]
  },
  {
   "cell_type": "markdown",
   "id": "f8946666",
   "metadata": {},
   "source": [
    "# 1. Series\n",
    "- pandas는 2차원 데이터를 쉽게 다룰 수 있는데 여기서 1차원 데이터만큼을 series라고 부른다\n",
    "- 정수 실수 문자열 등이 포함된다."
   ]
  },
  {
   "cell_type": "markdown",
   "id": "4d2c4a98",
   "metadata": {},
   "source": [
    "## Series 객체 생성\n",
    "예) 1월부터 4월까지 평균 온도 데이터 (-20, -10, 10, 20)"
   ]
  },
  {
   "cell_type": "code",
   "execution_count": 5,
   "id": "2c474bba",
   "metadata": {},
   "outputs": [
    {
     "name": "stdout",
     "output_type": "stream",
     "text": [
      "0   -20\n",
      "1   -10\n",
      "2    10\n",
      "3    20\n",
      "dtype: int64\n"
     ]
    }
   ],
   "source": [
    "temp = pd.Series([-20, -10, 10, 20])\n",
    "print(temp)"
   ]
  },
  {
   "cell_type": "code",
   "execution_count": 6,
   "id": "a3c939f0",
   "metadata": {},
   "outputs": [
    {
     "data": {
      "text/plain": [
       "-20"
      ]
     },
     "execution_count": 6,
     "metadata": {},
     "output_type": "execute_result"
    }
   ],
   "source": [
    "temp[0] # 1월 온도"
   ]
  },
  {
   "cell_type": "code",
   "execution_count": 7,
   "id": "e3ff65e3",
   "metadata": {},
   "outputs": [
    {
     "data": {
      "text/plain": [
       "10"
      ]
     },
     "execution_count": 7,
     "metadata": {},
     "output_type": "execute_result"
    }
   ],
   "source": [
    "temp[2] # 3월 온도"
   ]
  },
  {
   "cell_type": "markdown",
   "id": "137c5197",
   "metadata": {},
   "source": [
    "# Series 객체 생성(Index 지정)"
   ]
  },
  {
   "cell_type": "code",
   "execution_count": 8,
   "id": "562b9035",
   "metadata": {},
   "outputs": [
    {
     "data": {
      "text/plain": [
       "Jan   -20\n",
       "Feb   -10\n",
       "Mar    10\n",
       "Apr    20\n",
       "dtype: int64"
      ]
     },
     "execution_count": 8,
     "metadata": {},
     "output_type": "execute_result"
    }
   ],
   "source": [
    "temp = pd.Series([-20, -10, 10, 20],  index=['Jan', 'Feb', 'Mar', 'Apr'])\n",
    "temp"
   ]
  },
  {
   "cell_type": "code",
   "execution_count": 10,
   "id": "c4479e1e",
   "metadata": {},
   "outputs": [
    {
     "data": {
      "text/plain": [
       "20"
      ]
     },
     "execution_count": 10,
     "metadata": {},
     "output_type": "execute_result"
    }
   ],
   "source": [
    "temp['Apr'] # Index Apr에 해당하는 데이터 출력"
   ]
  }
 ],
 "metadata": {
  "kernelspec": {
   "display_name": "Python 3 (ipykernel)",
   "language": "python",
   "name": "python3"
  },
  "language_info": {
   "codemirror_mode": {
    "name": "ipython",
    "version": 3
   },
   "file_extension": ".py",
   "mimetype": "text/x-python",
   "name": "python",
   "nbconvert_exporter": "python",
   "pygments_lexer": "ipython3",
   "version": "3.8.9"
  }
 },
 "nbformat": 4,
 "nbformat_minor": 5
}
